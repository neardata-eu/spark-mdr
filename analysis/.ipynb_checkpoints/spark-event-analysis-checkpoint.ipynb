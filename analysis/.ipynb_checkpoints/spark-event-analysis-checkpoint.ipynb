{
 "cells": [
  {
   "cell_type": "markdown",
   "id": "e3f7a964-1dc9-482d-a6ad-35669527602d",
   "metadata": {
    "jp-MarkdownHeadingCollapsed": true
   },
   "source": [
    "## IMPORTS & FUNCTIONS"
   ]
  },
  {
   "cell_type": "code",
   "execution_count": 192,
   "id": "db50da88-571b-4ada-adc1-77d4296f205d",
   "metadata": {},
   "outputs": [],
   "source": [
    "# IMPORTS\n",
    "import matplotlib.pyplot as plt"
   ]
  },
  {
   "cell_type": "code",
   "execution_count": 264,
   "id": "68d4baa9-929b-4d4f-9939-5711a993e78a",
   "metadata": {},
   "outputs": [],
   "source": [
    "# FUNCTIONS\n",
    "# Get job info into a dict\n",
    "def get_job_info(job):\n",
    "    job_dict = dict()\n",
    "    stripe = job.split(\",\")\n",
    "    for line in stripe:\n",
    "        cleanline = line.replace('\"',\"\").replace(\"{\",\"\").replace(\"}\",\"\")\n",
    "        splitline = cleanline.split(\":\")\n",
    "        job_dict[splitline[0]] = splitline[1:]\n",
    "\n",
    "    return job_dict\n",
    "\n",
    "# Print START JOB basic info\n",
    "def print_job_start_info(job):\n",
    "    print(\"Event: \", str(job_info['Event']))\n",
    "    if 'Job ID' in job_info:\n",
    "        print(\"Job ID: \", job_info['Job ID'])\n",
    "    if 'Stage Name' in job_info:\n",
    "        print(\"Stage Name: \",job_info['Stage Name'])\n",
    "    if 'Submission Time' in job_info:\n",
    "        print(\"Completion time: \", job_info['Submission Time'])\n",
    "    if 'spark.app.submitTime' in job_info:\n",
    "        print(\"Spark SubmitTime: \", job_info['spark.app.submitTime'])\n",
    "\n",
    "# Print END JOB basic info\n",
    "def print_job_end_info(job):\n",
    "    print(\"Event: \", str(job_info['Event']))\n",
    "    if 'Job ID' in job_info:\n",
    "        print(\"Job ID: \", job_info['Job ID'])\n",
    "    if 'Completion Time' in job_info:\n",
    "        print(\"Completion time: \", job_info['Completion Time'])\n",
    "    if 'Result' in job_info:\n",
    "        print(\"Job Result: \", job_info['Result'])\n",
    "\n",
    "# Get main job info\n",
    "def get_main_job_info(lines):\n",
    "    n = 0\n",
    "    events = dict()\n",
    "    print_info = False\n",
    "    for line in lines:\n",
    "        n+=1\n",
    "        sline = line.split(\",\")        \n",
    "        event = sline[0].replace('{\"Event\":\"',\"\").replace('\"',\"\")\n",
    "        #print(f'Event is {event}')\n",
    "        job_info = get_job_info(line)\n",
    "        if job_info['Event'] == ['SparkListenerJobStart']:\n",
    "            if print_info:\n",
    "                print_job_start_info(job_info)\n",
    "                print(\"\")\n",
    "    \n",
    "        if job_info['Event'] == ['SparkListenerJobEnd']:\n",
    "            if print_info:\n",
    "                print_job_end_info(job_info)\n",
    "                print(\"\")\n",
    "        \n",
    "        if event not in events:\n",
    "            events[event] = list()\n",
    "        events[event].append(line)\n",
    "        \n",
    "    return events\n",
    "\n",
    "# Get job times by job ID\n",
    "def get_times_by_job_ID(events):\n",
    "    event_times_by_ID = dict()\n",
    "    for start_job in events['SparkListenerJobStart']:\n",
    "        j_info = get_job_info(start_job)\n",
    "        event_times_by_ID[j_info['Job ID'][0]] = {'Job ID': j_info['Job ID'], 'Stage Name': j_info['Stage Name'][0], 'Submission Time': j_info['Submission Time'][0]}\n",
    "    \n",
    "    # Get completing time info\n",
    "    for end_job in events['SparkListenerJobEnd']:\n",
    "        j_info = get_job_info(end_job)\n",
    "        job_summary = event_times[j_info['Job ID'][0]]\n",
    "        job_summary['Completion Time'] = j_info['Completion Time'][0]\n",
    "        job_summary['Running time'] = int(j_info['Completion Time'][0]) - int(job_summary['Submission Time'])\n",
    "        event_times_by_ID[j_info['Job ID'][0]] = job_summary\n",
    "\n",
    "    return event_times_by_ID\n",
    "\n",
    "# Get job times by job name\n",
    "def get_times_by_names(event_times_by_ID):\n",
    "    event_times_by_names = dict()\n",
    "    for key, val in event_times_by_ID.items():\n",
    "        job_info = {'Job ID': key, 'Submission Time': val['Submission Time'], 'Completion Time' : val['Completion Time'], 'Running time' : val['Running time']}\n",
    "        if val['Stage Name'] not in event_times_by_names:\n",
    "            event_times_by_names[val['Stage Name']] = list()\n",
    "        event_times_by_names[val['Stage Name']].append(job_info)\n",
    "    return event_times_by_names\n",
    "\n",
    "# Get job run time by job name\n",
    "def get_run_times_by_names(event_times_by_ID):\n",
    "    run_time_by_name = dict()\n",
    "    for key, val in event_times_by_ID.items():\n",
    "        if val['Stage Name'] not in run_time_by_name_x86:\n",
    "            run_time_by_name[val['Stage Name']] = list()\n",
    "        run_time_by_name[val['Stage Name']].append(val['Running time'])\n",
    "    return run_time_by_name\n"
   ]
  },
  {
   "cell_type": "code",
   "execution_count": 169,
   "id": "2af873ad-5da8-4e6d-921d-641c8c0352a7",
   "metadata": {},
   "outputs": [],
   "source": [
    "# PATHS\n",
    "datapath = \"data/\""
   ]
  },
  {
   "cell_type": "markdown",
   "id": "ffce343d-3b5c-48b2-9bdf-0a8878549f2d",
   "metadata": {
    "jp-MarkdownHeadingCollapsed": true
   },
   "source": [
    "## EXTRACT X86 INFORMATION"
   ]
  },
  {
   "cell_type": "code",
   "execution_count": 248,
   "id": "7d071b2f-67f1-4fe2-8d84-8ae0e3dff103",
   "metadata": {},
   "outputs": [],
   "source": [
    "# LOAD DATA\n",
    "with open(datapath + 'run_x86/spark-events/it1/x86_app_I1_W3_C4_F5') as f:\n",
    "    lines = f.readlines()"
   ]
  },
  {
   "cell_type": "code",
   "execution_count": 265,
   "id": "48e7b813-522e-4fcb-99e1-36dfab5c7dc9",
   "metadata": {},
   "outputs": [],
   "source": [
    "# MAIN\n",
    "# Extract main information from jobs \n",
    "events = get_main_job_info(lines)\n",
    "\n",
    "# Get event info dict where key is the job ID and value a dict with times information and job name\n",
    "event_times_by_ID_x86 = get_times_by_job_ID(events)\n",
    "\n",
    "# Get event info dict where key is the job name and value a dict with times information\n",
    "event_times_by_names_x86 = get_times_by_names(event_times_by_ID_x86)\n",
    "\n",
    "# Get run time dict where key is the job name and value the running time\n",
    "run_times_by_names_x86 = get_times_by_names(event_times_by_ID_x86)\n"
   ]
  },
  {
   "cell_type": "markdown",
   "id": "abce41db-f919-4809-a1e4-490edd7eb0e6",
   "metadata": {},
   "source": [
    "## EXTRACT X86 INFORMATION"
   ]
  },
  {
   "cell_type": "code",
   "execution_count": 248,
   "id": "3c0cb1c2-d3c4-4bd8-8816-6fa72eaaf30e",
   "metadata": {},
   "outputs": [],
   "source": [
    "# LOAD DATA\n",
    "with open(datapath + 'run_x86/spark-events/it1/x86_app_I1_W3_C4_F5') as f:\n",
    "    lines = f.readlines()"
   ]
  },
  {
   "cell_type": "code",
   "execution_count": 265,
   "id": "2198e204-ba5b-4e3c-8328-341c412e803d",
   "metadata": {},
   "outputs": [],
   "source": [
    "# MAIN\n",
    "# Extract main information from jobs \n",
    "events = get_main_job_info(lines)\n",
    "\n",
    "# Get event info dict where key is the job ID and value a dict with times information and job name\n",
    "event_times_by_ID_x86 = get_times_by_job_ID(events)\n",
    "\n",
    "# Get event info dict where key is the job name and value a dict with times information\n",
    "event_times_by_names_x86 = get_times_by_names(event_times_by_ID_x86)\n",
    "\n",
    "# Get run time dict where key is the job name and value the running time\n",
    "run_times_by_names_x86 = get_times_by_names(event_times_by_ID_x86)\n"
   ]
  },
  {
   "cell_type": "markdown",
   "id": "8da4b653-ab32-4536-acf1-9a4e3b155bcb",
   "metadata": {
    "jp-MarkdownHeadingCollapsed": true
   },
   "source": [
    "## DATA PLOTS"
   ]
  },
  {
   "cell_type": "code",
   "execution_count": 254,
   "id": "55eca530-a7f0-4a05-b3de-ab993dd75aab",
   "metadata": {},
   "outputs": [
    {
     "data": {
      "image/png": "[encoded data removed]",
      "text/plain": [
       "<Figure size 1200x480 with 2 Axes>"
      ]
     },
     "metadata": {},
     "output_type": "display_data"
    }
   ],
   "source": [
    "# BOX PLOT\n",
    "keys = list(run_time_by_name.keys())\n",
    "data_x86 = [run_time_by_name_x86[keys[x]] for x in range(len(keys))]\n",
    "data_riscV = [run_time_by_name_x86[keys[x]] for x in range(len(keys))]\n",
    "\n",
    "fig, ax = plt.subplots(1,2, sharey=True)\n",
    "fig.set_figwidth(12)\n",
    "\n",
    "ax[0].set_title('Running times in x86')\n",
    "ax[0].boxplot(data_x86)\n",
    "ax[1].set_title('Running times in RISC-V')\n",
    "ax[1].boxplot(data_riscV)\n",
    "\n",
    "\n",
    "plt.show()\n"
   ]
  },
  {
   "cell_type": "code",
   "execution_count": 255,
   "id": "f81ec0c1-254a-4658-ae5a-d77b30f5e60a",
   "metadata": {},
   "outputs": [
    {
     "name": "stdout",
     "output_type": "stream",
     "text": [
      "{'Collect': array([9391,   31]), 'CollectAsMap': array([10875,    37]), 'Count': array([55542,    31]), 'RunJob': array([55700,    37])}\n"
     ]
    },
    {
     "data": {
      "image/png": "[encoded data removed]",
      "text/plain": [
       "<Figure size 640x480 with 1 Axes>"
      ]
     },
     "metadata": {},
     "output_type": "display_data"
    }
   ],
   "source": [
    "# STACKED CHART PLOT\n",
    "\n",
    "# data from https://allisonhorst.github.io/palmerpenguins/\n",
    "\n",
    "j1 = 'collect at /home/ubuntu/via/main/scripts/spark_with_traces_no_hdfs/mdr.py'\n",
    "j2 = 'collectAsMap at /home/ubuntu/via/main/scripts/spark_with_traces_no_hdfs/mdr.py'\n",
    "j3 = 'count at /home/ubuntu/via/main/scripts/spark_with_traces_no_hdfs/mdr.py'\n",
    "j4 = 'runJob at SparkHadoopWriter.scala'\n",
    "\n",
    "architectures = (\n",
    "    \"x86\",\n",
    "    \"RISC-V\",\n",
    ")\n",
    "runtimes_cum = {\n",
    "    \"Collect\": np.array([sum(run_time_by_name_x86[j1]), 31]),\n",
    "    \"CollectAsMap\": np.array([sum(run_time_by_name_x86[j2]), 37]),\n",
    "    \"Count\": np.array([sum(run_time_by_name_x86[j3]), 31]),\n",
    "    \"RunJob\": np.array([sum(run_time_by_name_x86[j4]), 37]),\n",
    "}\n",
    "\n",
    "print(runtimes_cum)\n",
    "width = 0.5\n",
    "\n",
    "fig, ax = plt.subplots()\n",
    "bottom = np.zeros(2)\n",
    "\n",
    "for job_name, runtime_cum in runtimes_cum.items():\n",
    "    p = ax.bar(architectures, runtime_cum, width, label=job_name, bottom=bottom)\n",
    "    bottom += runtime_cum\n",
    "\n",
    "ax.set_title(\"Cumulative running times per function\")\n",
    "ax.legend(loc=\"upper right\")\n",
    "\n",
    "plt.show()\n"
   ]
  },
  {
   "cell_type": "code",
   "execution_count": null,
   "id": "0f744958-0773-4a38-b6f9-c20a0782ef7c",
   "metadata": {},
   "outputs": [],
   "source": []
  }
 ],
 "metadata": {
  "kernelspec": {
   "display_name": "Python 3 (ipykernel)",
   "language": "python",
   "name": "python3"
  },
  "language_info": {
   "codemirror_mode": {
    "name": "ipython",
    "version": 3
   },
   "file_extension": ".py",
   "mimetype": "text/x-python",
   "name": "python",
   "nbconvert_exporter": "python",
   "pygments_lexer": "ipython3",
   "version": "3.11.5"
  }
 },
 "nbformat": 4,
 "nbformat_minor": 5
}
