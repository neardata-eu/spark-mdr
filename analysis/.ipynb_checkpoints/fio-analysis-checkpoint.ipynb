{
 "cells": [
  {
   "cell_type": "markdown",
   "id": "52050c24-5801-41ea-82cc-3c13cb189393",
   "metadata": {},
   "source": [
    "# FUNCTIONS AND IMPORTS"
   ]
  },
  {
   "cell_type": "code",
   "execution_count": 157,
   "id": "33b9b6ed-f791-4869-949b-bf16347a76ce",
   "metadata": {},
   "outputs": [],
   "source": [
    "import re, pickle\n",
    "import numpy as np\n",
    "import matplotlib.pyplot as plt\n"
   ]
  },
  {
   "cell_type": "code",
   "execution_count": 126,
   "id": "ddbcbac8-3fbc-474b-b72f-f2ca326b4f95",
   "metadata": {},
   "outputs": [],
   "source": [
    "# GLOBAL VARS\n",
    "FREQ_X86 = 2600000000\n",
    "FREQ_RISCV = 1200000000\n",
    "\n",
    "# Get time from string\n",
    "def get_time(text, e = 0):\n",
    "    if e == 0:\n",
    "        aux = text.split(\" \")\n",
    "        return float(aux[-1])\n",
    "    else:\n",
    "        aux = text.split(\" \")\n",
    "        time = aux[-1].replace(\"e\",\"\")\n",
    "        return float(time)/(10**float(e))\n",
    "\n",
    "    \n",
    "# Extract time info from text\n",
    "def get_dict_time(lines):\n",
    "    time_dict = dict()\n",
    "    for l in lines:\n",
    "        aux = l.split(\":\")\n",
    "        if len(aux) > 1:\n",
    "            if aux[0] == 'T':\n",
    "                time_info = aux[1].split(\"-\")\n",
    "                stage = time_info[0].strip()\n",
    "                if stage not in time_dict:\n",
    "                    time_dict[stage] = list()\n",
    "                    \n",
    "                if len(time_info) == 2:\n",
    "                    time_dict[stage].append(get_time(time_info[1]))\n",
    "                elif len(time_info) == 3:\n",
    "                    time_dict[stage].append(get_time(time_info[1], e = time_info[2]))\n",
    "    \n",
    "        if aux[0].startswith(\"Total time\"):\n",
    "            time_dict[\"TOTAL\"] = list()\n",
    "            time_dict[\"TOTAL\"].append(float(aux[1]))\n",
    "            \n",
    "    return time_dict\n",
    "\n",
    "def get_total_times(time_dict_riscv):\n",
    "    total_times = dict()\n",
    "    for k, v in time_dict_riscv.items():\n",
    "        total_times[k] = sum(v)\n",
    "\n",
    "    return total_times\n",
    "\n",
    "def get_total_cycles(time_dict_riscv, f):\n",
    "    total_times = dict()\n",
    "    for k, v in time_dict_riscv.items():\n",
    "        total_times[k] = sum(v)*f\n",
    "\n",
    "    return total_times\n",
    "\n",
    "def get_ratios(x86, riscv):\n",
    "\n",
    "    ratios = dict()\n",
    "    for k, v in x86.items():\n",
    "        ratios[k] = riscv[k]/v\n",
    "\n",
    "    return ratios\n",
    "\n",
    "def get_increases(x86, riscv):\n",
    "\n",
    "    increase = dict()\n",
    "    for k, v in x86.items():\n",
    "        increase[k] = riscv[k] - v\n",
    "\n",
    "    return increase"
   ]
  },
  {
   "cell_type": "markdown",
   "id": "5babe7ec-089b-41a4-8e7b-9491091b2af7",
   "metadata": {},
   "source": [
    "# MAIN"
   ]
  },
  {
   "cell_type": "markdown",
   "id": "1f18d47c-299a-42e2-819b-f246af1bda9d",
   "metadata": {
    "jp-MarkdownHeadingCollapsed": true
   },
   "source": [
    "## GET INFORMATION"
   ]
  },
  {
   "cell_type": "code",
   "execution_count": 127,
   "id": "7ffac21f-5ff4-4ad2-af2e-0bc120b94ecc",
   "metadata": {},
   "outputs": [],
   "source": [
    "# PATHS\n",
    "datapath = \"data/\""
   ]
  },
  {
   "cell_type": "code",
   "execution_count": 128,
   "id": "36fe4cc2-dd16-4141-912d-c112510dc504",
   "metadata": {},
   "outputs": [],
   "source": [
    "# LOAD RISCV DATA\n",
    "with open(datapath + 'standalone/times_f5_riscv.txt') as f_riscv:\n",
    "    lines_riscv = f_riscv.readlines()\n",
    "    \n",
    "time_dict_riscv = get_dict_time(lines_riscv)\n",
    "time_dict_totals_riscv = get_total_times(time_dict_riscv)\n",
    "cycles_dict_totals_riscv = get_total_cycles(time_dict_riscv, FREQ_RISCV)\n",
    "\n",
    "# LOAD x86 DATA\n",
    "with open(datapath + 'standalone/times_f5_x86.txt') as f_x86:\n",
    "    lines_x86 = f_x86.readlines()\n",
    "    \n",
    "time_dict_x86 = get_dict_time(lines_x86)\n",
    "time_dict_totals_x86 = get_total_times(time_dict_x86)\n",
    "cycles_dict_totals_x86 = get_total_cycles(time_dict_x86, FREQ_X86)\n",
    "\n",
    "ratios_cycles = get_ratios(cycles_dict_totals_x86, cycles_dict_totals_riscv)\n",
    "increases_cycles = get_increases(cycles_dict_totals_x86, cycles_dict_totals_riscv)"
   ]
  },
  {
   "cell_type": "code",
   "execution_count": 131,
   "id": "17458a86-3048-4147-b5e2-30a0d67b17e6",
   "metadata": {},
   "outputs": [
    {
     "name": "stdout",
     "output_type": "stream",
     "text": [
      " - TOTAL TIMES - \n",
      "{'INIT': 0.001709511037915945, 'READ': 4.711146950256079, 'MAIN': 440.1087401038967, 'WRITE': 3.962223755195737, 'TOTAL': 448.7846726397984}\n",
      "{'INIT': 0.05901801958680153, 'READ': 70.25835919566453, 'MAIN': 2609.749718941748, 'WRITE': 35.96351194754243, 'TOTAL': 2716.0346710998565}\n",
      "\n",
      " - TOTAL CYCLES - \n",
      "{'INIT': 4444728.698581457, 'READ': 12248982070.665806, 'MAIN': 1144282724270.1313, 'WRITE': 10301781763.508915, 'TOTAL': 1166840148863.4758}\n",
      "{'INIT': 70821623.50416183, 'READ': 84310031034.79742, 'MAIN': 3131699662730.0977, 'WRITE': 43156214337.05092, 'TOTAL': 3259241605319.8276}\n",
      "\n",
      " - RATIO CYCLES - \n",
      "{'INIT': 15.933846204553426, 'READ': 6.883023466636087, 'MAIN': 2.736823335970242, 'WRITE': 4.189199046122229, 'TOTAL': 2.793220312563285}\n",
      "\n",
      " - INCREASE OF CYCLES - \n",
      "{'INIT': 66376894.80558038, 'READ': 72061048964.13162, 'MAIN': 1987416938459.9663, 'WRITE': 32854432573.542004, 'TOTAL': 2092401456456.3518}\n",
      "[0.06637689480558037, 72.06104896413163, 1987.4169384599663, 32.854432573542006, 2092.4014564563518]\n"
     ]
    }
   ],
   "source": [
    "print(\" - TOTAL TIMES - \")\n",
    "print(time_dict_totals_x86)\n",
    "print(time_dict_totals_riscv)\n",
    "\n",
    "print(\"\\n - TOTAL CYCLES - \")\n",
    "print(cycles_dict_totals_x86)\n",
    "print(cycles_dict_totals_riscv)\n",
    "\n",
    "print(\"\\n - RATIO CYCLES - \")\n",
    "print(ratios_cycles)\n",
    "\n",
    "print(\"\\n - INCREASE OF CYCLES - \")\n",
    "print(increases_cycles)\n",
    "print([x/1000000000 for x in increases_cycles.values()])"
   ]
  },
  {
   "cell_type": "markdown",
   "id": "a1847a3b-db5a-44a9-af7d-e369ba4a76ad",
   "metadata": {},
   "source": [
    "## PLOTS"
   ]
  },
  {
   "cell_type": "code",
   "execution_count": 178,
   "id": "69f2679f-c79c-49c3-bd10-189b685df373",
   "metadata": {},
   "outputs": [
    {
     "name": "stdout",
     "output_type": "stream",
     "text": [
      "0.0\n",
      "0.0\n",
      "0.012\n",
      "0.084\n",
      "1.144\n",
      "3.132\n",
      "0.01\n",
      "0.043\n",
      "1.167\n",
      "3.259\n"
     ]
    },
    {
     "ename": "NameError",
     "evalue": "name 'fisze' is not defined",
     "output_type": "error",
     "traceback": [
      "\u001b[0;31m---------------------------------------------------------------------------\u001b[0m",
      "\u001b[0;31mNameError\u001b[0m                                 Traceback (most recent call last)",
      "Cell \u001b[0;32mIn[178], line 55\u001b[0m\n\u001b[1;32m     53\u001b[0m ax\u001b[38;5;241m.\u001b[39mset_title(\u001b[38;5;124m'\u001b[39m\u001b[38;5;124mCycles of MDR python application stages\u001b[39m\u001b[38;5;124m'\u001b[39m)\n\u001b[1;32m     54\u001b[0m ax\u001b[38;5;241m.\u001b[39mtitle\u001b[38;5;241m.\u001b[39mset_size(fsize)\n\u001b[0;32m---> 55\u001b[0m ax\u001b[38;5;241m.\u001b[39myaxis\u001b[38;5;241m.\u001b[39mget_label()\u001b[38;5;241m.\u001b[39mset_fontsize(\u001b[43mfisze\u001b[49m)\n\u001b[1;32m     57\u001b[0m ax\u001b[38;5;241m.\u001b[39mset_xticks(x \u001b[38;5;241m+\u001b[39m width, labels)\n\u001b[1;32m     58\u001b[0m ax\u001b[38;5;241m.\u001b[39mtick_params(axis\u001b[38;5;241m=\u001b[39m\u001b[38;5;124m'\u001b[39m\u001b[38;5;124mboth\u001b[39m\u001b[38;5;124m'\u001b[39m, which\u001b[38;5;241m=\u001b[39m\u001b[38;5;124m'\u001b[39m\u001b[38;5;124mmajor\u001b[39m\u001b[38;5;124m'\u001b[39m, labelsize\u001b[38;5;241m=\u001b[39m\u001b[38;5;241m10\u001b[39m)\n",
      "\u001b[0;31mNameError\u001b[0m: name 'fisze' is not defined"
     ]
    },
    {
     "data": {
      "image/png": "[encoded data removed]",
      "text/plain": [
       "<Figure size 700x700 with 1 Axes>"
      ]
     },
     "metadata": {},
     "output_type": "display_data"
    }
   ],
   "source": [
    "# Create list of values\n",
    "arch = list(cycles_dict_totals_x86.keys())\n",
    "labels = (\"Init\", \"Load\", \"Process\", \"Write\", \"Total\")\n",
    "cycles = {\n",
    "    'x86': (cycles_dict_totals_x86['INIT'], cycles_dict_totals_x86['READ'], cycles_dict_totals_x86['MAIN'], cycles_dict_totals_x86['WRITE'], cycles_dict_totals_x86['TOTAL']),\n",
    "    'RISC-V': (cycles_dict_totals_riscv['INIT'], cycles_dict_totals_riscv['READ'], cycles_dict_totals_riscv['MAIN'], cycles_dict_totals_riscv['WRITE'], cycles_dict_totals_riscv['TOTAL'])\n",
    "}\n",
    "\n",
    "# Ratios\n",
    "ratios = list(ratios_cycles.values())\n",
    "ratios_label = ['r = ' + str(round(r, 2)) for r in ratios]\n",
    "\n",
    "# Values of plot\n",
    "x = np.arange(len(arch))  # the label locations\n",
    "width = 0.3  # the width of the bars\n",
    "multiplier = 0\n",
    "\n",
    "fig, ax = plt.subplots(layout='constrained')\n",
    "fig.set_figwidth(7)\n",
    "fig.set_figheight(7)\n",
    "fsize = 14\n",
    "\n",
    "# Plot Bars\n",
    "for attribute, measurement in cycles.items():\n",
    "    offset = 0.15 + width * multiplier\n",
    "    rects = ax.bar(x + offset, measurement, width, label=attribute)\n",
    "    multiplier += 1\n",
    "\n",
    "    \n",
    "# Add labels\n",
    "rects = ax.patches\n",
    "n = 0\n",
    "for rect, label in zip(rects, labels):\n",
    "    height = rect.get_height()\n",
    "    print(round(height/1000000000000,3))\n",
    "    print(round(measurement[n]/1000000000000,3))\n",
    "    ax.text(rect.get_x()+0.3 + rect.get_width() / 2, measurement[n] + 5, round(measurement[n]/1000000000000,3), ha=\"center\", va=\"bottom\")\n",
    "    ax.text(rect.get_x() + rect.get_width() / 2, height + 5, round(height/1000000000000,3), ha=\"center\", va=\"bottom\")\n",
    "    n+=1\n",
    "\n",
    "# Add ratios\n",
    "pos = np.arange(len(arch)) + 0.25\n",
    "ypos = .85\n",
    "for tick in range((5)):\n",
    "    ax.text(pos[tick], ypos, ratios_label[tick], transform=ax.get_xaxis_transform(), horizontalalignment='center')\n",
    "    ax.text(pos[tick], ypos+.02, labels[tick], transform=ax.get_xaxis_transform(), horizontalalignment='center', )\n",
    "\n",
    "\n",
    "\n",
    "\n",
    "# Add some text for labels, title and custom x-axis tick labels, etc.\n",
    "ax.set_ylabel('Cycles')\n",
    "ax.set_title('Cycles of MDR python application stages')\n",
    "ax.title.set_size(fsize)\n",
    "ax.set_xticks(x + width, labels)\n",
    "ax.tick_params(axis='both', which='major', labelsize=10)\n",
    "ax.tick_params(axis='y', which='minor', labelsize=44)\n",
    "ax.legend(loc='upper left', ncols=2)\n",
    "ax.set_ylim(0, cycles_dict_totals_riscv['TOTAL']*1.3)\n",
    "\n",
    "plt.savefig('total.png')\n",
    "\n",
    "plt.show()"
   ]
  },
  {
   "cell_type": "code",
   "execution_count": 159,
   "id": "fe7c3c74-f4e5-4c23-82b6-b0f38f6a261f",
   "metadata": {},
   "outputs": [],
   "source": [
    "# Save to file\n",
    "with open('data/python_cycles.pkl', 'wb') as fp:\n",
    "    pickle.dump(cycles, fp)\n",
    "\n",
    "with open('data/ratios_cycles.pkl', 'wb') as fp:\n",
    "    pickle.dump(cycles, fp)\n"
   ]
  },
  {
   "cell_type": "code",
   "execution_count": null,
   "id": "546eb3b8-934e-4ad2-ba48-6706327ff237",
   "metadata": {},
   "outputs": [],
   "source": []
  }
 ],
 "metadata": {
  "kernelspec": {
   "display_name": "Python 3 (ipykernel)",
   "language": "python",
   "name": "python3"
  },
  "language_info": {
   "codemirror_mode": {
    "name": "ipython",
    "version": 3
   },
   "file_extension": ".py",
   "mimetype": "text/x-python",
   "name": "python",
   "nbconvert_exporter": "python",
   "pygments_lexer": "ipython3",
   "version": "3.11.5"
  }
 },
 "nbformat": 4,
 "nbformat_minor": 5
}
